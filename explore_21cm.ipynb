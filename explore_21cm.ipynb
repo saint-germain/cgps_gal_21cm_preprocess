{
 "cells": [
  {
   "cell_type": "code",
   "execution_count": null,
   "metadata": {
    "collapsed": true,
    "tags": []
   },
   "outputs": [],
   "source": [
    "import numpy as np\n",
    "import matplotlib.pyplot as plt\n",
    "%matplotlib inline"
   ]
  },
  {
   "cell_type": "code",
   "execution_count": null,
   "metadata": {
    "collapsed": true
   },
   "outputs": [],
   "source": [
    "vel=np.loadtxt('vel.txt')/1000 # v_LOS in km s^-1"
   ]
  },
  {
   "cell_type": "code",
   "execution_count": null,
   "metadata": {
    "collapsed": true,
    "tags": []
   },
   "outputs": [],
   "source": [
    "a=np.loadtxt('21cmsurvey.txt')"
   ]
  },
  {
   "cell_type": "code",
   "execution_count": null,
   "metadata": {},
   "outputs": [],
   "source": [
    "long=a[0]\n",
    "long.shape # galactic longitude in deg"
   ]
  },
  {
   "cell_type": "code",
   "execution_count": null,
   "metadata": {
    "collapsed": true,
    "tags": []
   },
   "outputs": [],
   "source": [
    "spgr=a[1:] # all spectra in Tb: brightness temperature (K)"
   ]
  },
  {
   "cell_type": "code",
   "execution_count": null,
   "metadata": {},
   "outputs": [],
   "source": [
    "spgr.shape"
   ]
  },
  {
   "cell_type": "code",
   "execution_count": null,
   "metadata": {},
   "outputs": [],
   "source": [
    "plt.figure(figsize=(5,5))\n",
    "plt.imshow(spgr,extent=[long[-1],long[0],vel[-1],vel[0]],aspect='auto')\n",
    "plt.xlabel('long (deg)')\n",
    "plt.ylabel('v_LOS (km/s)')"
   ]
  },
  {
   "cell_type": "code",
   "execution_count": null,
   "metadata": {
    "tags": []
   },
   "outputs": [],
   "source": [
    "plt.plot(vel,spgr[:,0])\n",
    "plt.xlabel('v (km/s)')\n",
    "plt.ylabel('Tb (K)')"
   ]
  },
  {
   "cell_type": "code",
   "execution_count": null,
   "metadata": {
    "collapsed": true,
    "tags": []
   },
   "outputs": [],
   "source": [
    "def gauss(x, *p):\n",
    "    A, mu, sigma = p\n",
    "    return A*np.exp(-(x-mu)**2/(2.*sigma**2))"
   ]
  },
  {
   "cell_type": "code",
   "execution_count": null,
   "metadata": {
    "collapsed": true,
    "tags": []
   },
   "outputs": [],
   "source": [
    "i=0\n",
    "x=vel\n",
    "y=spgr[:,i]"
   ]
  },
  {
   "cell_type": "code",
   "execution_count": null,
   "metadata": {},
   "outputs": [],
   "source": [
    "g1=gauss(x, y.max(),x[np.argmax(y)],1)\n",
    "hist_fit = g1\n",
    "\n",
    "plt.plot(x, y, label='Test data')\n",
    "plt.plot(x, hist_fit, label='Fitted data')\n",
    "plt.title('long = '+str(long[i])[:6]+'º')\n",
    "plt.xlabel('v (km/s)')\n",
    "plt.ylabel('Tb (K)')"
   ]
  },
  {
   "cell_type": "code",
   "execution_count": null,
   "metadata": {},
   "outputs": [],
   "source": [
    "lon=long[0]*np.pi/180\n",
    "v_sun=225\n",
    "R=8*(v_sun*np.sin(lon))/(x[np.argmax(y)]+v_sun*np.sin(lon))\n",
    "R # in kpc"
   ]
  },
  {
   "cell_type": "code",
   "execution_count": null,
   "metadata": {
    "collapsed": true,
    "tags": []
   },
   "outputs": [],
   "source": [
    "from lmfit.models import GaussianModel"
   ]
  },
  {
   "cell_type": "code",
   "execution_count": null,
   "metadata": {
    "collapsed": true,
    "tags": []
   },
   "outputs": [],
   "source": [
    "gauss1 = GaussianModel(prefix='g1_')\n",
    "pars=gauss1.make_params()\n",
    "\n",
    "pars['g1_center'].set(value=-30, min=-45, max=-20)\n",
    "pars['g1_sigma'].set(value=2, min=1,max=10)\n",
    "pars['g1_amplitude'].set(value=1000, min=20,max=3000)\n",
    "                       "
   ]
  },
  {
   "cell_type": "code",
   "execution_count": null,
   "metadata": {
    "collapsed": true,
    "tags": []
   },
   "outputs": [],
   "source": [
    "mod = gauss1"
   ]
  },
  {
   "cell_type": "code",
   "execution_count": null,
   "metadata": {
    "tags": []
   },
   "outputs": [],
   "source": [
    "out = mod.fit(y, pars, x=x)\n",
    "print(out.fit_report(min_correl=0.5))"
   ]
  },
  {
   "cell_type": "code",
   "execution_count": null,
   "metadata": {
    "tags": []
   },
   "outputs": [],
   "source": [
    "comps = out.eval_components(x=x)\n",
    "plt.plot(x, y, 'b')\n",
    "plt.plot(x, comps['g1_'], 'g--', label='Gaussian component 1')\n",
    "plt.legend(loc='best')"
   ]
  },
  {
   "cell_type": "code",
   "execution_count": null,
   "metadata": {},
   "outputs": [],
   "source": [
    "dv=vel[0]-vel[1]\n",
    "integ=np.trapz(comps['g1_'], dx=dv)\n",
    "NH=1.82e18*integ"
   ]
  }
 ],
 "metadata": {
  "kernelspec": {
   "display_name": "Python 3",
   "language": "python",
   "name": "python3"
  },
  "language_info": {
   "codemirror_mode": {
    "name": "ipython",
    "version": 3
   },
   "file_extension": ".py",
   "mimetype": "text/x-python",
   "name": "python",
   "nbconvert_exporter": "python",
   "pygments_lexer": "ipython3",
   "version": "3.5.6"
  }
 },
 "nbformat": 4,
 "nbformat_minor": 4
}
