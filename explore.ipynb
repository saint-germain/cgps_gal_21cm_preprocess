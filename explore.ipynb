{
 "cells": [
  {
   "cell_type": "code",
   "execution_count": 11,
   "metadata": {},
   "outputs": [],
   "source": [
    "import numpy as np\n",
    "import matplotlib.pyplot as plt\n",
    "%matplotlib inline"
   ]
  },
  {
   "cell_type": "code",
   "execution_count": 31,
   "metadata": {},
   "outputs": [],
   "source": [
    "vel=(np.linspace(17499.24188,-62473.38006,100)//100)/10"
   ]
  },
  {
   "cell_type": "code",
   "execution_count": 7,
   "metadata": {},
   "outputs": [],
   "source": [
    "a=np.loadtxt('21cmsurvey.txt')"
   ]
  },
  {
   "cell_type": "code",
   "execution_count": 32,
   "metadata": {},
   "outputs": [
    {
     "data": {
      "text/plain": [
       "array([ 17.4,  16.6,  15.8,  15. ,  14.2,  13.4,  12.6,  11.8,  11. ,\n",
       "        10.2,   9.4,   8.6,   7.8,   6.9,   6.1,   5.3,   4.5,   3.7,\n",
       "         2.9,   2.1,   1.3,   0.5,  -0.3,  -1.1,  -1.9,  -2.7,  -3.6,\n",
       "        -4.4,  -5.2,  -6. ,  -6.8,  -7.6,  -8.4,  -9.2, -10. , -10.8,\n",
       "       -11.6, -12.4, -13.2, -14.1, -14.9, -15.7, -16.5, -17.3, -18.1,\n",
       "       -18.9, -19.7, -20.5, -21.3, -22.1, -22.9, -23.7, -24.6, -25.4,\n",
       "       -26.2, -27. , -27.8, -28.6, -29.4, -30.2, -31. , -31.8, -32.6,\n",
       "       -33.4, -34.3, -35.1, -35.9, -36.7, -37.5, -38.3, -39.1, -39.9,\n",
       "       -40.7, -41.5, -42.3, -43.1, -43.9, -44.8, -45.6, -46.4, -47.2,\n",
       "       -48. , -48.8, -49.6, -50.4, -51.2, -52. , -52.8, -53.6, -54.4,\n",
       "       -55.3, -56.1, -56.9, -57.7, -58.5, -59.3, -60.1, -60.9, -61.7,\n",
       "       -62.5])"
      ]
     },
     "execution_count": 32,
     "metadata": {},
     "output_type": "execute_result"
    }
   ],
   "source": [
    "vel #km/s"
   ]
  },
  {
   "cell_type": "code",
   "execution_count": null,
   "metadata": {},
   "outputs": [],
   "source": []
  }
 ],
 "metadata": {
  "kernelspec": {
   "display_name": "Python 3",
   "language": "python",
   "name": "python3"
  },
  "language_info": {
   "codemirror_mode": {
    "name": "ipython",
    "version": 3
   },
   "file_extension": ".py",
   "mimetype": "text/x-python",
   "name": "python",
   "nbconvert_exporter": "python",
   "pygments_lexer": "ipython3",
   "version": "3.7.6"
  }
 },
 "nbformat": 4,
 "nbformat_minor": 4
}
